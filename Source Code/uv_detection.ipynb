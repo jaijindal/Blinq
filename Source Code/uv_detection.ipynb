{
 "cells": [
  {
   "cell_type": "code",
   "execution_count": 27,
   "metadata": {},
   "outputs": [
    {
     "name": "stdout",
     "output_type": "stream",
     "text": [
      "0.12\n"
     ]
    }
   ],
   "source": [
    "import json\n",
    "f = open('sample-data.json')\n",
    "data = json.load(f)\n",
    "data.split(\"{\")\n",
    "uv = float(data[16:20])\n",
    "print(uv)"
   ]
  },
  {
   "cell_type": "code",
   "execution_count": null,
   "metadata": {},
   "outputs": [],
   "source": []
  }
 ],
 "metadata": {
  "kernelspec": {
   "display_name": "Python 3.9.7 ('base')",
   "language": "python",
   "name": "python3"
  },
  "language_info": {
   "codemirror_mode": {
    "name": "ipython",
    "version": 3
   },
   "file_extension": ".py",
   "mimetype": "text/x-python",
   "name": "python",
   "nbconvert_exporter": "python",
   "pygments_lexer": "ipython3",
   "version": "3.9.7"
  },
  "orig_nbformat": 4,
  "vscode": {
   "interpreter": {
    "hash": "fb36704254062036f6bcc2caf18156d7a6007b8426adcc381b0d5419e46d50f0"
   }
  }
 },
 "nbformat": 4,
 "nbformat_minor": 2
}
