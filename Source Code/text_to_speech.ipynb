{
 "cells": [
  {
   "cell_type": "code",
   "execution_count": 22,
   "metadata": {},
   "outputs": [],
   "source": [
    "import pyttsx3\n",
    "with open('test.txt') as f:\n",
    "    contents = f.read()\n",
    "from gtts import gTTS\n",
    "import os\n",
    "from playsound import playsound\n",
    "mytext = contents\n",
    "language = 'en'\n",
    "myobj = gTTS(text=mytext, lang=language, slow=False)\n",
    "myobj.save(\"speak.mp3\")\n",
    "playsound('speak.mp3')"
   ]
  },
  {
   "cell_type": "code",
   "execution_count": null,
   "metadata": {},
   "outputs": [],
   "source": []
  }
 ],
 "metadata": {
  "kernelspec": {
   "display_name": "Python 3.10.4 ('besht')",
   "language": "python",
   "name": "python3"
  },
  "language_info": {
   "codemirror_mode": {
    "name": "ipython",
    "version": 3
   },
   "file_extension": ".py",
   "mimetype": "text/x-python",
   "name": "python",
   "nbconvert_exporter": "python",
   "pygments_lexer": "ipython3",
   "version": "3.10.4"
  },
  "orig_nbformat": 4,
  "vscode": {
   "interpreter": {
    "hash": "2dd7179195e7a331c5146909319fc6dd42de160e1463d8e8b1b371d7218c55ef"
   }
  }
 },
 "nbformat": 4,
 "nbformat_minor": 2
}
