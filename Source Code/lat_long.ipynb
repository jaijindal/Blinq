{
 "cells": [
  {
   "cell_type": "code",
   "execution_count": 26,
   "metadata": {},
   "outputs": [
    {
     "name": "stdout",
     "output_type": "stream",
     "text": [
      "Patna, Patna Rural, Patna District, Bihar, 800001, India\n"
     ]
    }
   ],
   "source": [
    "from geopy.geocoders import Nominatim\n",
    "geolocator = Nominatim(user_agent=\"geoapiExercises\")\n",
    "Latitude = \"25.594095\"\n",
    "Longitude = \"85.137566\"\n",
    " \n",
    "location = geolocator.reverse(Latitude+\",\"+Longitude)\n",
    " \n",
    "print(location)\n",
    "a = str(location)\n",
    "x = a.split(\", \")\n",
    "y = x[:-2]"
   ]
  },
  {
   "cell_type": "code",
   "execution_count": null,
   "metadata": {},
   "outputs": [],
   "source": []
  }
 ],
 "metadata": {
  "kernelspec": {
   "display_name": "Python 3.10.4 ('besht')",
   "language": "python",
   "name": "python3"
  },
  "language_info": {
   "codemirror_mode": {
    "name": "ipython",
    "version": 3
   },
   "file_extension": ".py",
   "mimetype": "text/x-python",
   "name": "python",
   "nbconvert_exporter": "python",
   "pygments_lexer": "ipython3",
   "version": "3.10.4"
  },
  "orig_nbformat": 4,
  "vscode": {
   "interpreter": {
    "hash": "2dd7179195e7a331c5146909319fc6dd42de160e1463d8e8b1b371d7218c55ef"
   }
  }
 },
 "nbformat": 4,
 "nbformat_minor": 2
}
